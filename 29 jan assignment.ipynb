{
 "cells": [
  {
   "cell_type": "code",
   "execution_count": 2,
   "id": "c4d64dc2-405c-4ac9-a756-fba818b26a24",
   "metadata": {},
   "outputs": [
    {
     "ename": "SyntaxError",
     "evalue": "invalid decimal literal (1677695394.py, line 1)",
     "output_type": "error",
     "traceback": [
      "\u001b[0;36m  Cell \u001b[0;32mIn[2], line 1\u001b[0;36m\u001b[0m\n\u001b[0;31m    29th january 2023\u001b[0m\n\u001b[0m     ^\u001b[0m\n\u001b[0;31mSyntaxError\u001b[0m\u001b[0;31m:\u001b[0m invalid decimal literal\n"
     ]
    }
   ],
   "source": [
    "                                                        29th january 2023 \n",
    "Q1. Who develop the python programming language ?\n",
    "    Ans.: Guido van Rossum\n",
    "    \n",
    "Q2. Which type of Programming does Python support?\n",
    "Ans.: Python is a multi-paradigm programming language. Object-oriented programming and structured programming are fully supported, \n",
    "    and many of their features support functional programming and aspect-oriented programming (including metaprogramming and metaobjects).\n",
    "\n",
    "Q3. Is Python case sensitive when dealing with identifiers?\n",
    "Ans.: Yes, Python is a case-sensitive language.\n",
    "\n",
    "Q4. What is the correct extension of the Python file?\n",
    "Ans.: .py\n",
    "\n",
    "Q5. Is Python code compiled or interpreted?\n",
    "Ans.: Python is an interpreted language\n",
    "\n",
    "\n",
    "Q6. Name a few blocks of code used to define in Python language?\n",
    "Ans.: {} braces,[] square bracket and () curly bracket.\n",
    "    \n",
    "7. State a character used to give single-line comments in Python?\n",
    "Ans.: #\n",
    "\n",
    "Q8. Mention functions which can help us to find the version of python that we are currently working on?\n",
    "Ans.: sys.version()\n",
    "\n",
    "Q9. Python supports the creation of anonymous functions at runtime, using a construct called\n",
    "Ans.: lamda\n",
    "\n",
    "Q10. What does pip stand for python?\n",
    "Ans.: Preferred Installer Program.\n",
    "\n",
    "Q11. Mention a few built-in functions in python? \n",
    "Ans.:\n",
    "    \n",
    "12. What is the maximum possible length of an identifier in Python?\n",
    "Ans.: print( ) function.\n",
    "      type( ) function.\n",
    "      input( ) function.\n",
    "      abs( ) function.\n",
    "      pow( ) function.\n",
    "      dir( ) function.\n",
    "      sorted( ) function.\n",
    "      max( ) function.\n",
    "\n",
    "Q13. What are the benefits of using Python?\n",
    "Ans.: 1. Extensive support libraries(NumPy for numerical calculations, Pandas for data analytics, etc.) \n",
    "      2. Open source and large active community base \n",
    "      3. Versatile, Easy to read, learn and write\n",
    "      4. User-friendly data structures \n",
    "      5. High-level language \n",
    "      6. Dynamically typed language(No need to mention data type based on the value assigned, it takes data type) \n",
    "    \n",
    "Q14. How is memory managed in Python?\n",
    "Ans.: Memory in Python is managed by Python private heap space. All Python objects and data structures are located in a private heap.\n",
    "      This private heap is taken care of by Python Interpreter itself, and a programmer doesn't have access to this private heap\n",
    "\n",
    "15. How to install Python on Windows and set path variables?\n",
    "Ans.: \n",
    "\n",
    "Q16. Is indentation required in python?\n",
    "Ans.: "
   ]
  }
 ],
 "metadata": {
  "kernelspec": {
   "display_name": "Python 3 (ipykernel)",
   "language": "python",
   "name": "python3"
  },
  "language_info": {
   "codemirror_mode": {
    "name": "ipython",
    "version": 3
   },
   "file_extension": ".py",
   "mimetype": "text/x-python",
   "name": "python",
   "nbconvert_exporter": "python",
   "pygments_lexer": "ipython3",
   "version": "3.10.8"
  }
 },
 "nbformat": 4,
 "nbformat_minor": 5
}
