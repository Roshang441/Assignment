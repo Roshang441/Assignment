{
 "cells": [
  {
   "cell_type": "code",
   "execution_count": null,
   "id": "dde2343f-cb09-4582-b689-02b0303417a1",
   "metadata": {},
   "outputs": [],
   "source": [
    "Q1. What is an API? Give an example, where an API is used in real life.\n",
    "Ans : An API is a communication interface that allows two separate software components to share data. An API operates as a bridge between internal and external software operations,\n",
    "      allowing for a fluid interchange of data that frequently passes undetected by the end-user.\n",
    "    real life examples are \n",
    "    Twitter Bots\n",
    "    Weather Snippers\n",
    "    Pay with PayPal\n",
    "    Google Maps\n",
    "    Travel Booking\n",
    "\n",
    "Q2. Give advantages and disadvantages of using API.\n",
    "Ans : API advantages\n",
    "     Can provide a way to access functionality or data that is not otherwise readily available or accessible.\n",
    "     Can provide a way to automate tasks.\n",
    "     Can help to improve communication between disparate systems.\n",
    "     API disadvantages:\n",
    "     Can be difficult to use and understand.\n",
    "     Cannot be guaranteed to be stable or backwards compatible.\n",
    "     May require a certain level of technical expertise in order to use them effectively.\n",
    "Q3. What is a Web API? Differentiate between API and Web API.\n",
    "Ans : Web API as the name suggests, is an API over the web which can be accessed using HTTP protocol. It is a concept and not a technology. We can build Web API using different technologies\n",
    "     such as Java, .NET etc.For example, Twitter's REST APIs provide programmatic access to read and write data using which we can integrate twitter's capabilities into our own application.\n",
    "    Web Services OR API                                                                                           Web API\n",
    "1)Web service is used to communicate between two machines on a network.\t1)Web API is used as an interface between two different applications for communicating with each other.\n",
    "2)It uses HTML requests that can be compressed, but XML data cannot be compressed.\t2)Data can be compressed.\n",
    "3)Generally, it uses the HTTP protocol for communication. It also uses SOAP, REST, and XML-RPC as communication.\t3)It may use any means of communication protocols such as HTTP/HTTPS to initiate the interaction between applications.\n",
    "4)A web service is just an API wrapped in HTTP.\t                        4)It's not always be a web-based\n",
    "5)All Web Services are APIs.\t                                        5)All APIs are not web services.\n",
    "6)It does not have a complete set of specifications, and sometimes it cannot perform all the functions that can be executed by the WEB API.\t6)An API is a complete set of rules and specifications that follow to facilitate the interaction.\n",
    "7)It uses XML as structured data for exchanging information and communication.\t7)It uses XML, JSON or plain data as structured data.\n",
    "Q4. Explain REST and SOAP Architecture. Mention shortcomings of SOAP.\n",
    "Ans : REST, or REpresentational State Transfer, is an architectural style for providing standards between computer systems on the web,\n",
    "    making it easier for systems to communicate with each other.\n",
    "    Simple Object Access Protocol (SOAP) is a lightweight XML-based protocol that is used for the exchange of information in decentralized, distributed application environments.\n",
    "    You can transmit SOAP messages in any way that the applications require, as long as both the client and the server use the same method.\n",
    "    shortcoming of soap :\n",
    "       1) Highly complex. In comparison to Rest, SOAP is significantly more complex. ...\n",
    "       2)No variety of data formats. SOAP is also extremely limited in its support of data formats. ...\n",
    "       3)API calls are not cached. ...\n",
    "       4) Uses more bandwidth.\n",
    "Q5. Differentiate between REST and SOAP.\n",
    "Ans :\n",
    "    SOAP API                                                                REST API\n",
    "\n",
    "1)Relies on SOAP (Simple Object Access Protocol)\t1)Relies on REST (Representational State Transfer) architecture using HTTP.\n",
    "2)Transports data in standard XML format.\tGenerally transports data in JSON. 2)It is based on URI. Because REST follows stateless model, REST does not enforces message format as XML or JSON etc.\n",
    "3)Because it is XML based and relies on SOAP,       3)it works with WSDL\tIt works with GET, POST, PUT, DELETE\n",
    "4)Works over HTTP, HTTPS, SMTP, XMPP\t            4)Works over HTTP and HTTPS\n",
    "5)Highly structured/typed\tLess structured ->      5)less bulky data\n",
    "6)Designed with large enterprise applications in mind 6)Designed with mobile devices in mind"
   ]
  }
 ],
 "metadata": {
  "kernelspec": {
   "display_name": "Python 3 (ipykernel)",
   "language": "python",
   "name": "python3"
  },
  "language_info": {
   "codemirror_mode": {
    "name": "ipython",
    "version": 3
   },
   "file_extension": ".py",
   "mimetype": "text/x-python",
   "name": "python",
   "nbconvert_exporter": "python",
   "pygments_lexer": "ipython3",
   "version": "3.10.8"
  }
 },
 "nbformat": 4,
 "nbformat_minor": 5
}
